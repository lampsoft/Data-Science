{
 "cells": [
  {
   "cell_type": "markdown",
   "metadata": {},
   "source": [
    "# Coursera: IBM Data Science Professional Specialization\n",
    "\n",
    "This notebook is for the capstone project for the 9th course of specialization in Data Science of IBM. Platform Coursera. [Data Science Specialization](https://www.coursera.org/specializations/ibm-data-science-professional-certificate)  \n",
    "This project will try to solve a problem/question by applying data science methods on the location data gotten from FourSquare API.  \n",
    "\n",
    "### By\n",
    "\n",
    "### Oladeji Stephen\n",
    "Email: oladejisteven@gmail.com  \n",
    "*LinkedIn: [steven](https://www.linkedin.com/in/oladeji-stephen-94021a69/)  * Twitter: [SaintSteven](https://www.twitter.com/realsaintsteven/)  "
   ]
  },
  {
   "cell_type": "markdown",
   "metadata": {},
   "source": [
    "## I. The Project Description:  \n",
    "### 1. Introduction:\n",
    "Visitors of New York will be charmed by her excellence with energetic life day in and day out, endless daily agenda, blasting business at each corner, and by the expertly-arranged vehicle framework which can take you wherever in the city.\n",
    "New York is well known globally as the finance capital and the \" tourist must visit\" city in North America. No big surprise the land showcase there is one of the priciest. It's the place a penthouse at the new Peter Marino-structured townhouse The Getty, just strides from the High Line, is sold for \\\\$59 million (\\\\$5,826/ft2). \n",
    "\n",
    "However, that is only an exception model. A brisk pursuit can show us the land cost can differ by a huge edge from neighborhoods to neighborhoods. For instance, a 2-rooms apartment suite in Central Park West, Upper West Side can cost \\\\$4.91 million all things considered; while in Inwood, Upper Manhattan, only 30 minutes away, it's just $498 thousand. \n",
    "\n",
    "So what parts of a local that can influence the cost of land to such broaden? One theory is that the encompassing settings can be an integral factor. \n",
    "\n",
    "Unquestionably anybody, who has endeavored to discover convenience for lease or purchase, has seen ads, for example, This apartment suite is situated close to the metro station, shopping centers, grocery stores, suppers, and so forth. Also, almost certainly, the cost will be higher than others with areas not as \"advantageous\". \n",
    "\n",
    "Will the scenes encompassing a convenience impact its cost? Also, what sort of settings can impact the most? Also, by what weight?\n"
   ]
  },
  {
   "cell_type": "markdown",
   "metadata": {},
   "source": [
    "### 2. The question to solve:\n",
    "This project will try to explore the neighborhoods of New York city to see:\n",
    "- if the surrounding venues can effect the price of real estates?  \n",
    "- what kind of surrounding venues, and to what extend, can effect the price?  \n",
    "- if we can use the surrounding venue to estimate the value of an accommodation over the average price of one area? And to what degree of confidence? \n",
    "  \n",
    "The result can be useful for home buyers, who can roughly estimate the value of a target house over the average.  \n",
    "Or to planners, who can decide which venues to place around their product, so that the price is maximized.  \n",
    "Or to just any normal person"
   ]
  },
  {
   "cell_type": "markdown",
   "metadata": {},
   "source": [
    "## II. Description of the data:  \n",
    "The main data used for this project will be from two sources:\n",
    "- The average price by neighborhoods in New York City. ([CityRealty](https://www.cityrealty.com/nyc/market-insight/features/trending-in-ny/october-2018-average-nyc-condo-prices-neighborhood/23921))\n",
    "- The venues in each neighborhood. ([FourSquare API](https://developer.foursquare.com/))  \n",
    "  \n",
    "More supporting data:\n",
    "- GeoJson ([http://data.beta.nyc](http://data.beta.nyc//dataset/0ff93d2d-90ba-457c-9f7e-39e47bf2ac5f/resource/35dd04fb-81b3-479b-a074-a27a37888ce7/download/d085e2f8d0b54d4590b1e7d1f35594c1pediacitiesnycneighborhoods.geojson))  \n",
    "- Coordinates ([Geocoder Python](https://geocoder.readthedocs.io/index.html))\n",
    "\n",
    "*Note:\n",
    "This project will only consider the average price of 2-bedrooms condo, which is a common type of real estate among normal families."
   ]
  },
  {
   "cell_type": "markdown",
   "metadata": {},
   "source": [
    "### 1. Data collection process:\n",
    "- The average price will be scrapped from the CityRealty website.\n",
    "- For each neighborhood, call Geocoder Python to get its coordinate.\n",
    "- For each neighborhood's coordinate, call FourSquare API to get the surrounding venues.  \n",
    "- Count the occurrences of each venue type and attach that information to each neighborhood.\n",
    "\n",
    "The output of the data collecting process will be a 2 dimensions dataframe:\n",
    "- Each row represents a neighborhood.\n",
    "- Each column will be the count of one type of venue in that neighborhood.\n",
    "- The last column will be the average 2-bedroom condo price of that neighborhood."
   ]
  },
  {
   "cell_type": "markdown",
   "metadata": {},
   "source": [
    "### 2. Using data to solve the question:  \n",
    "- First, correlation between price and surrounding venues will be checked.  \n",
    "- Second, if correlated, machine learning techniques (PCA, Regression, PCR) will be used to analyze the data. The output will be a list of venues types that effect the most on price, along with their weight on the result."
   ]
  },
  {
   "cell_type": "code",
   "execution_count": null,
   "metadata": {},
   "outputs": [],
   "source": []
  }
 ],
 "metadata": {
  "kernelspec": {
   "display_name": "Python 3",
   "language": "python",
   "name": "python3"
  },
  "language_info": {
   "codemirror_mode": {
    "name": "ipython",
    "version": 3
   },
   "file_extension": ".py",
   "mimetype": "text/x-python",
   "name": "python",
   "nbconvert_exporter": "python",
   "pygments_lexer": "ipython3",
   "version": "3.7.6"
  }
 },
 "nbformat": 4,
 "nbformat_minor": 4
}
